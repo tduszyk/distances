{
 "cells": [
  {
   "cell_type": "code",
   "execution_count": 1,
   "metadata": {},
   "outputs": [],
   "source": [
    "import pandas as pd\n",
    "import math"
   ]
  },
  {
   "cell_type": "code",
   "execution_count": 3,
   "metadata": {},
   "outputs": [
    {
     "name": "stdout",
     "output_type": "stream",
     "text": [
      "  group_A group_B group_C group_D group_E\n",
      "0    -1,4    -2,2    -1,2     1,2     3,3\n",
      "1     3,0     2,0    1,-6    -3,2   -3,-1\n",
      "2    -1,2     2,6    2,-5    -2,4    -1,3\n",
      "3    -2,5     2,2    -1,5    -3,1    -2,7\n"
     ]
    }
   ],
   "source": [
    "file_to_load = ('/home/popeye/Repositories/GitHub/distances/175_groups.csv')\n",
    "shooting_data = pd.read_csv(file_to_load, delimiter=';', index_col=None)\n",
    "print(shooting_data.head())"
   ]
  }
 ],
 "metadata": {
  "kernelspec": {
   "display_name": "Python 3",
   "language": "python",
   "name": "python3"
  },
  "language_info": {
   "codemirror_mode": {
    "name": "ipython",
    "version": 3
   },
   "file_extension": ".py",
   "mimetype": "text/x-python",
   "name": "python",
   "nbconvert_exporter": "python",
   "pygments_lexer": "ipython3",
   "version": "3.7.9"
  }
 },
 "nbformat": 4,
 "nbformat_minor": 4
}
