{
 "cells": [
  {
   "cell_type": "code",
   "execution_count": 27,
   "metadata": {},
   "outputs": [],
   "source": [
    "import pandas as pd\n",
    "from scipy.spatial import distance\n",
    "import math"
   ]
  },
  {
   "cell_type": "code",
   "execution_count": 28,
   "metadata": {},
   "outputs": [
    {
     "name": "stdout",
     "output_type": "stream",
     "text": [
      "              bullet  load        powder group_A group_B group_C group_D  \\\n",
      "0     Speer GS 175gr  48.4  HOGDON H4831    -1,4    -2,2    -1,2     1,2   \n",
      "1     Speer GS 175gr  47.9  HOGDON H4831     3,0     2,0    1,-6    -3,2   \n",
      "2     Speer GS 175gr  47.4  HOGDON H4831    -1,2     2,6    2,-5    -2,4   \n",
      "3     Speer GS 175gr  46.9  HOGDON H4831    -2,5     2,2    -1,5    -3,1   \n",
      "4  Nosler HPBT 186gr  43.0  HOGDON H4831   -1,-2   -1,-2   -1,-2     NaN   \n",
      "\n",
      "  group_E  \n",
      "0     3,3  \n",
      "1   -3,-1  \n",
      "2    -1,3  \n",
      "3    -2,7  \n",
      "4     NaN  \n"
     ]
    }
   ],
   "source": [
    "file_to_load = ('/home/popeye/Repositories/GitHub/distances/groups_full_2.csv')\n",
    "shooting_data = pd.read_csv(file_to_load, delimiter=';')\n",
    "print(shooting_data.head())"
   ]
  },
  {
   "cell_type": "code",
   "execution_count": 21,
   "metadata": {},
   "outputs": [],
   "source": []
  },
  {
   "cell_type": "code",
   "execution_count": 25,
   "metadata": {},
   "outputs": [
    {
     "data": {
      "text/plain": [
       "<pandas.core.groupby.generic.DataFrameGroupBy object at 0x7f86d7cff250>"
      ]
     },
     "execution_count": 25,
     "metadata": {},
     "output_type": "execute_result"
    }
   ],
   "source": []
  },
  {
   "cell_type": "code",
   "execution_count": null,
   "metadata": {},
   "outputs": [],
   "source": []
  }
 ],
 "metadata": {
  "kernelspec": {
   "display_name": "Python 3",
   "language": "python",
   "name": "python3"
  },
  "language_info": {
   "codemirror_mode": {
    "name": "ipython",
    "version": 3
   },
   "file_extension": ".py",
   "mimetype": "text/x-python",
   "name": "python",
   "nbconvert_exporter": "python",
   "pygments_lexer": "ipython3",
   "version": "3.7.9"
  }
 },
 "nbformat": 4,
 "nbformat_minor": 4
}
